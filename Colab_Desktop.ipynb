{
  "cells": [
    {
      "cell_type": "markdown",
      "metadata": {
        "id": "z6kz1KbMRfcS"
      },
      "source": [
        "# Colab 远程桌面\n",
        "\n",
        "> 感谢 Tomohiro 大佬的代码，使得远程获取 Colab 桌面变成可能。大佬的 [主页](https://internet-of-tomohiro.netlify.app/google_colab/vnc.en.html) 以及大佬的 [Github](https://github.com/demotomohiro/remocolab)"
      ]
    },
    {
      "cell_type": "markdown",
      "metadata": {
        "id": "xcB4rCaVSC4b"
      },
      "source": [
        "## 0. 前言\n",
        "\n",
        "使用前的一些说明，原理上来说，应该是所有系统都可以使用这个方法来获取到  Colab 的远程桌面的，但是目前我尝试了我只在 Linux 系统上成功连接了远程桌面，由于我没有 Mac 所以无法尝试。而 Windows 失败的点，我将会在后面说到。"
      ]
    },
    {
      "cell_type": "markdown",
      "metadata": {
        "id": "uwpg2Vg6S1fe"
      },
      "source": [
        "## 1. 准备软件\n",
        "\n",
        "1. 安装 [Cloudflare](https://developers.cloudflare.com/cloudflare-one/connections/connect-apps/install-and-setup/installation)。假如是 Linux 系统选择\n",
        "2. 安装 [TurboVNC](https://sourceforge.net/projects/turbovnc/)。往下翻可以找到适用于不同系统的安装包。如果是 Linux 版本，下载完 .deb 文件后，请在文件目录下使用 `sudo apt-get install -f` 来安装该文件。\n",
        "3. 安装 SSH Client，这个一般来说系统自带的都有，如果 windows 用户不确定自己有没有这个软件，可以在开始菜单里搜索 `添加可以选功能` -> `OpenSSH Client`"
      ]
    },
    {
      "cell_type": "markdown",
      "metadata": {
        "id": "gxth0EnhVwGg"
      },
      "source": [
        "## 2. 修改运行时\n",
        "\n",
        "在 Colab 笔记本上面的菜单栏里点击 `修改` -> `笔记本设置` -> `硬件加速` -> `GPU`"
      ]
    },
    {
      "cell_type": "markdown",
      "metadata": {
        "id": "O3YlY_RMXHIv"
      },
      "source": [
        "## 3. 创建远程连接\n",
        "\n",
        "完成上诉任务后在 Colab 里运行下面的代码：\n",
        "\n",
        "- 该段代码会设置好服务器端的 OpenSSH, VirtualGL 以及 TurboVNC。\n",
        "- 运行完成后连接方式以及密码会在下方显示。\n",
        "\n",
        "> 注意当成功运行完一次下面的代码后，再次运行可能会报错。原因是一台服务器在运行时只能设置一次，如果本地电脑提示连接失败，要想再次连接则需要将服务器端先关闭后再连接。\n",
        ">\n",
        "> 具体方法是先将点击右上角 RAM，磁盘 右边向下的三角 -> 管理会话 -> 终止当前的会话。\n",
        "\n",
        "![](./pics/stop.png)"
      ]
    },
    {
      "cell_type": "code",
      "execution_count": 1,
      "metadata": {
        "colab": {
          "base_uri": "https://localhost:8080/",
          "height": 973,
          "referenced_widgets": [
            "0b474022f5e34910abe3082783bb9d04",
            "84219a94f5cb476ba84a97ed369b37d7",
            "32dfadc199814f099492f2264cb02da2",
            "6252059a552f431db155ac37ea9c3158",
            "32bb421f11484b47aaf372c0b2fdbf82",
            "9783ac7c54584633a2ee64944df23c7c",
            "ab27b0db9725441f98ff61bfb6149e4c",
            "094f1c8d6f0e4c2aa9e8e6891b3aa879",
            "50d84f148ee74277a21f98a96d4de3a4",
            "3aec8a11352e42d9af3cd1a9d3de2b18",
            "30443366e1434d919b67fc6a83985532",
            "748082569e8c41b7ace22015b533650b"
          ]
        },
        "id": "A6amoH5bReax",
        "outputId": "1db2986b-484d-49e6-c20c-8494a4803c13"
      },
      "outputs": [
        {
          "name": "stdout",
          "output_type": "stream",
          "text": [
            "Collecting git+https://github.com/demotomohiro/remocolab.git\n",
            "  Cloning https://github.com/demotomohiro/remocolab.git to /tmp/pip-req-build-vzejlrco\n",
            "  Running command git clone -q https://github.com/demotomohiro/remocolab.git /tmp/pip-req-build-vzejlrco\n",
            "Collecting pyngrok\n",
            "  Downloading pyngrok-5.1.0.tar.gz (745 kB)\n",
            "\u001b[K     |████████████████████████████████| 745 kB 27.5 MB/s \n",
            "\u001b[?25hRequirement already satisfied: PyYAML in /usr/local/lib/python3.7/dist-packages (from pyngrok->remocolab.py==0.1) (3.13)\n",
            "Building wheels for collected packages: remocolab.py, pyngrok\n",
            "  Building wheel for remocolab.py (setup.py) ... \u001b[?25l\u001b[?25hdone\n",
            "  Created wheel for remocolab.py: filename=remocolab.py-0.1-py3-none-any.whl size=7553 sha256=fbceba35daeb1cc70c6c2065eedaafb57e796e18014faa010aa6fefb258f5777\n",
            "  Stored in directory: /tmp/pip-ephem-wheel-cache-rylqg9c3/wheels/80/37/44/386e71ab0cd5aef5cefdb1926b710a42fdb4fe2d07c3b1b08f\n",
            "  Building wheel for pyngrok (setup.py) ... \u001b[?25l\u001b[?25hdone\n",
            "  Created wheel for pyngrok: filename=pyngrok-5.1.0-py3-none-any.whl size=19007 sha256=68752057affa9259e931daf5deb61483d2700ff0ae66ff0e162fa3ae1f95a02f\n",
            "  Stored in directory: /root/.cache/pip/wheels/bf/e6/af/ccf6598ecefecd44104069371795cb9b3afbcd16987f6ccfb3\n",
            "Successfully built remocolab.py pyngrok\n",
            "Installing collected packages: pyngrok, remocolab.py\n",
            "Successfully installed pyngrok-5.1.0 remocolab.py-0.1\n",
            "---\n",
            "As ngrok doesn't work on colab for long time, default tunnel method has been changed to Argo tunnel.\n",
            "Please read this for more details:\n",
            "https://github.com/demotomohiro/remocolab/blob/master/README.md\n"
          ]
        },
        {
          "data": {
            "application/vnd.jupyter.widget-view+json": {
              "model_id": "0b474022f5e34910abe3082783bb9d04",
              "version_major": 2,
              "version_minor": 0
            },
            "text/plain": [
              "Label(value='')"
            ]
          },
          "metadata": {},
          "output_type": "display_data"
        },
        {
          "data": {
            "application/vnd.jupyter.widget-view+json": {
              "model_id": "6252059a552f431db155ac37ea9c3158",
              "version_major": 2,
              "version_minor": 0
            },
            "text/plain": [
              "FloatProgress(value=0.0, layout=Layout(border='1px solid #118800'), max=1.0)"
            ]
          },
          "metadata": {},
          "output_type": "display_data"
        },
        {
          "name": "stdout",
          "output_type": "stream",
          "text": [
            "Install openssh-server\n"
          ]
        },
        {
          "data": {
            "application/vnd.jupyter.widget-view+json": {
              "model_id": "ab27b0db9725441f98ff61bfb6149e4c",
              "version_major": 2,
              "version_minor": 0
            },
            "text/plain": [
              "Label(value='')"
            ]
          },
          "metadata": {},
          "output_type": "display_data"
        },
        {
          "data": {
            "application/vnd.jupyter.widget-view+json": {
              "model_id": "3aec8a11352e42d9af3cd1a9d3de2b18",
              "version_major": 2,
              "version_minor": 0
            },
            "text/plain": [
              "FloatProgress(value=0.0, layout=Layout(border='1px solid #118800'), max=1.0)"
            ]
          },
          "metadata": {},
          "output_type": "display_data"
        },
        {
          "name": "stdout",
          "output_type": "stream",
          "text": [
            "Install xfce4\n",
            "Install xfce4-terminal\n",
            "ED25519 key fingerprint of host:\n",
            "256 SHA256:q1rf7t8/afFr4VX7XJavqAeuN/9U2665sraaUGxlOJE root@15020c66cbde (ED25519)\n",
            "+--[ED25519 256]--+\n",
            "|          ..     |\n",
            "|          Eo     |\n",
            "|          o o    |\n",
            "|         . +    .|\n",
            "|        S +     =|\n",
            "|         +.    **|\n",
            "|      . o. .  o+@|\n",
            "|     . o o+.++ O=|\n",
            "|    ... o=BO*=X*=|\n",
            "+----[SHA256]-----+\n",
            "\n",
            "✂️✂️✂️✂️✂️✂️✂️✂️✂️✂️✂️✂️✂️✂️✂️✂️✂️✂️✂️✂️✂️✂️✂️✂️\n",
            "root password: mH6p2il8wSS27Vh74gk8qNLbHScZgo3qVKk2jnT-CkE\n",
            "colab password: meL5OPTHwoG3YzHIeVZgZ6Oa20iuMMl2gLT_6i3_lE4\n",
            "✂️✂️✂️✂️✂️✂️✂️✂️✂️✂️✂️✂️✂️✂️✂️✂️✂️✂️✂️✂️✂️✂️✂️✂️\n",
            "---\n",
            "Execute following command on your local machine and login before running TurboVNC viewer:\n",
            "✂️✂️✂️✂️✂️✂️✂️✂️✂️✂️✂️✂️✂️✂️✂️✂️✂️✂️✂️✂️✂️✂️✂️✂️\n",
            "ssh -o UserKnownHostsFile=/dev/null -o VisualHostKey=yes -oProxyCommand=\"cloudflared access ssh --hostname %h\" -L 5901:localhost:5901 colab@find-lonely-wichita-ribbon.trycloudflare.com\n",
            "✂️✂️✂️✂️✂️✂️✂️✂️✂️✂️✂️✂️✂️✂️✂️✂️✂️✂️✂️✂️✂️✂️✂️✂️\n",
            "VNC password: cl_C3l4e\n",
            "VNC view only password: rsTIKXNR\n",
            "✂️✂️✂️✂️✂️✂️✂️✂️✂️✂️✂️✂️✂️✂️✂️✂️✂️✂️✂️✂️✂️✂️✂️✂️\n",
            "\n"
          ]
        }
      ],
      "source": [
        "!pip install git+https://github.com/demotomohiro/remocolab.git\n",
        "import remocolab\n",
        "remocolab.setupVNC()"
      ]
    },
    {
      "cell_type": "markdown",
      "metadata": {
        "id": "P4-HeZR5ZCkq"
      },
      "source": [
        "## 4. 连接 TurboVNC\n",
        "\n",
        "1. 使用 SSH 连接到 Colab\n",
        "  - 在命令行执行上方的 ssh 命令： `ssh -o UserKnownHostsFile...` 开头的那个命令\n",
        "  - 使用上面显示的 `colab password: `。\n",
        "\n",
        "![](./pics/ssh.png)\n",
        "\n",
        "在完成这部操作后，我们的命令行就会变成 Colab 服务器的命令行。\n",
        "\n",
        "2. 运行 TurboVNC Viewer，如果你使用 Windows 就直接双节 TurboVNC Viewer 的图标，如果你使用的 Linux，则输入 ` /opt/TurboVNC/bin/vncviewer` 来打开。\n",
        "  - 连接到地址 `localhost:1`\n",
        "  - 使用上面显示的 `VNC password`\n",
        "\n",
        "![](./pics/vnc.png)\n",
        "\n",
        "在完成这步后就可以获取到服务器桌面了。\n",
        "\n",
        "![](./pics/desktop.png)"
      ]
    },
    {
      "cell_type": "markdown",
      "metadata": {
        "id": "Wgg99MA_kUKo"
      },
      "source": [
        "但 Colab 本身是一个临时的 VM，运行时产生的文件在关闭后都会消失。为了解决这个文件，我们可以将 Google Drive 安装到当前的 VM 上："
      ]
    },
    {
      "cell_type": "code",
      "execution_count": 6,
      "metadata": {
        "colab": {
          "base_uri": "https://localhost:8080/"
        },
        "id": "ZfbZJrprkuLQ",
        "outputId": "0acbcb53-2fba-41aa-a35b-d57db179fe5c"
      },
      "outputs": [
        {
          "name": "stdout",
          "output_type": "stream",
          "text": [
            "Mounted at /content/drive\n"
          ]
        }
      ],
      "source": [
        "from google.colab import drive\n",
        "drive.mount('/content/drive')"
      ]
    },
    {
      "cell_type": "markdown",
      "metadata": {
        "id": "xdp7gamkpQO3"
      },
      "source": [
        "## 5. 小技巧\n",
        "\n",
        "为了获取更长的 Colab 使用时间，可以添加下面的Chrome 插件：\n",
        "\n",
        "[Colab alive](https://chrome.google.com/webstore/detail/colab-alive/eookkckfbbgnhdgcbfbicoahejkdoele/related)"
      ]
    }
  ],
  "metadata": {
    "accelerator": "GPU",
    "colab": {
      "name": "Colab_Desktop.ipynb",
      "provenance": []
    },
    "kernelspec": {
      "display_name": "Python 3",
      "name": "python3"
    },
    "language_info": {
      "name": "python"
    },
    "widgets": {
      "application/vnd.jupyter.widget-state+json": {
        "094f1c8d6f0e4c2aa9e8e6891b3aa879": {
          "model_module": "@jupyter-widgets/base",
          "model_module_version": "1.2.0",
          "model_name": "LayoutModel",
          "state": {
            "_model_module": "@jupyter-widgets/base",
            "_model_module_version": "1.2.0",
            "_model_name": "LayoutModel",
            "_view_count": null,
            "_view_module": "@jupyter-widgets/base",
            "_view_module_version": "1.2.0",
            "_view_name": "LayoutView",
            "align_content": null,
            "align_items": null,
            "align_self": null,
            "border": null,
            "bottom": null,
            "display": null,
            "flex": null,
            "flex_flow": null,
            "grid_area": null,
            "grid_auto_columns": null,
            "grid_auto_flow": null,
            "grid_auto_rows": null,
            "grid_column": null,
            "grid_gap": null,
            "grid_row": null,
            "grid_template_areas": null,
            "grid_template_columns": null,
            "grid_template_rows": null,
            "height": null,
            "justify_content": null,
            "justify_items": null,
            "left": null,
            "margin": null,
            "max_height": null,
            "max_width": null,
            "min_height": null,
            "min_width": null,
            "object_fit": null,
            "object_position": null,
            "order": null,
            "overflow": null,
            "overflow_x": null,
            "overflow_y": null,
            "padding": null,
            "right": null,
            "top": null,
            "visibility": null,
            "width": null
          }
        },
        "0b474022f5e34910abe3082783bb9d04": {
          "model_module": "@jupyter-widgets/controls",
          "model_module_version": "1.5.0",
          "model_name": "LabelModel",
          "state": {
            "_dom_classes": [],
            "_model_module": "@jupyter-widgets/controls",
            "_model_module_version": "1.5.0",
            "_model_name": "LabelModel",
            "_view_count": null,
            "_view_module": "@jupyter-widgets/controls",
            "_view_module_version": "1.5.0",
            "_view_name": "LabelView",
            "description": "",
            "description_tooltip": null,
            "layout": "IPY_MODEL_84219a94f5cb476ba84a97ed369b37d7",
            "placeholder": "​",
            "style": "IPY_MODEL_32dfadc199814f099492f2264cb02da2",
            "value": "ssh-import-id: Installed ssh-import-id (amd64)"
          }
        },
        "30443366e1434d919b67fc6a83985532": {
          "model_module": "@jupyter-widgets/base",
          "model_module_version": "1.2.0",
          "model_name": "LayoutModel",
          "state": {
            "_model_module": "@jupyter-widgets/base",
            "_model_module_version": "1.2.0",
            "_model_name": "LayoutModel",
            "_view_count": null,
            "_view_module": "@jupyter-widgets/base",
            "_view_module_version": "1.2.0",
            "_view_name": "LayoutView",
            "align_content": null,
            "align_items": null,
            "align_self": null,
            "border": "1px solid #118800",
            "bottom": null,
            "display": null,
            "flex": null,
            "flex_flow": null,
            "grid_area": null,
            "grid_auto_columns": null,
            "grid_auto_flow": null,
            "grid_auto_rows": null,
            "grid_column": null,
            "grid_gap": null,
            "grid_row": null,
            "grid_template_areas": null,
            "grid_template_columns": null,
            "grid_template_rows": null,
            "height": null,
            "justify_content": null,
            "justify_items": null,
            "left": null,
            "margin": null,
            "max_height": null,
            "max_width": null,
            "min_height": null,
            "min_width": null,
            "object_fit": null,
            "object_position": null,
            "order": null,
            "overflow": null,
            "overflow_x": null,
            "overflow_y": null,
            "padding": null,
            "right": null,
            "top": null,
            "visibility": null,
            "width": null
          }
        },
        "32bb421f11484b47aaf372c0b2fdbf82": {
          "model_module": "@jupyter-widgets/base",
          "model_module_version": "1.2.0",
          "model_name": "LayoutModel",
          "state": {
            "_model_module": "@jupyter-widgets/base",
            "_model_module_version": "1.2.0",
            "_model_name": "LayoutModel",
            "_view_count": null,
            "_view_module": "@jupyter-widgets/base",
            "_view_module_version": "1.2.0",
            "_view_name": "LayoutView",
            "align_content": null,
            "align_items": null,
            "align_self": null,
            "border": "1px solid #118800",
            "bottom": null,
            "display": null,
            "flex": null,
            "flex_flow": null,
            "grid_area": null,
            "grid_auto_columns": null,
            "grid_auto_flow": null,
            "grid_auto_rows": null,
            "grid_column": null,
            "grid_gap": null,
            "grid_row": null,
            "grid_template_areas": null,
            "grid_template_columns": null,
            "grid_template_rows": null,
            "height": null,
            "justify_content": null,
            "justify_items": null,
            "left": null,
            "margin": null,
            "max_height": null,
            "max_width": null,
            "min_height": null,
            "min_width": null,
            "object_fit": null,
            "object_position": null,
            "order": null,
            "overflow": null,
            "overflow_x": null,
            "overflow_y": null,
            "padding": null,
            "right": null,
            "top": null,
            "visibility": null,
            "width": null
          }
        },
        "32dfadc199814f099492f2264cb02da2": {
          "model_module": "@jupyter-widgets/controls",
          "model_module_version": "1.5.0",
          "model_name": "DescriptionStyleModel",
          "state": {
            "_model_module": "@jupyter-widgets/controls",
            "_model_module_version": "1.5.0",
            "_model_name": "DescriptionStyleModel",
            "_view_count": null,
            "_view_module": "@jupyter-widgets/base",
            "_view_module_version": "1.2.0",
            "_view_name": "StyleView",
            "description_width": ""
          }
        },
        "3aec8a11352e42d9af3cd1a9d3de2b18": {
          "model_module": "@jupyter-widgets/controls",
          "model_module_version": "1.5.0",
          "model_name": "FloatProgressModel",
          "state": {
            "_dom_classes": [],
            "_model_module": "@jupyter-widgets/controls",
            "_model_module_version": "1.5.0",
            "_model_name": "FloatProgressModel",
            "_view_count": null,
            "_view_module": "@jupyter-widgets/controls",
            "_view_module_version": "1.5.0",
            "_view_name": "ProgressView",
            "bar_style": "",
            "description": "",
            "description_tooltip": null,
            "layout": "IPY_MODEL_30443366e1434d919b67fc6a83985532",
            "max": 1,
            "min": 0,
            "orientation": "horizontal",
            "style": "IPY_MODEL_748082569e8c41b7ace22015b533650b",
            "value": 0.999218
          }
        },
        "50d84f148ee74277a21f98a96d4de3a4": {
          "model_module": "@jupyter-widgets/controls",
          "model_module_version": "1.5.0",
          "model_name": "DescriptionStyleModel",
          "state": {
            "_model_module": "@jupyter-widgets/controls",
            "_model_module_version": "1.5.0",
            "_model_name": "DescriptionStyleModel",
            "_view_count": null,
            "_view_module": "@jupyter-widgets/base",
            "_view_module_version": "1.2.0",
            "_view_name": "StyleView",
            "description_width": ""
          }
        },
        "6252059a552f431db155ac37ea9c3158": {
          "model_module": "@jupyter-widgets/controls",
          "model_module_version": "1.5.0",
          "model_name": "FloatProgressModel",
          "state": {
            "_dom_classes": [],
            "_model_module": "@jupyter-widgets/controls",
            "_model_module_version": "1.5.0",
            "_model_name": "FloatProgressModel",
            "_view_count": null,
            "_view_module": "@jupyter-widgets/controls",
            "_view_module_version": "1.5.0",
            "_view_name": "ProgressView",
            "bar_style": "",
            "description": "",
            "description_tooltip": null,
            "layout": "IPY_MODEL_32bb421f11484b47aaf372c0b2fdbf82",
            "max": 1,
            "min": 0,
            "orientation": "horizontal",
            "style": "IPY_MODEL_9783ac7c54584633a2ee64944df23c7c",
            "value": 0.982143
          }
        },
        "748082569e8c41b7ace22015b533650b": {
          "model_module": "@jupyter-widgets/controls",
          "model_module_version": "1.5.0",
          "model_name": "ProgressStyleModel",
          "state": {
            "_model_module": "@jupyter-widgets/controls",
            "_model_module_version": "1.5.0",
            "_model_name": "ProgressStyleModel",
            "_view_count": null,
            "_view_module": "@jupyter-widgets/base",
            "_view_module_version": "1.2.0",
            "_view_name": "StyleView",
            "bar_color": null,
            "description_width": ""
          }
        },
        "84219a94f5cb476ba84a97ed369b37d7": {
          "model_module": "@jupyter-widgets/base",
          "model_module_version": "1.2.0",
          "model_name": "LayoutModel",
          "state": {
            "_model_module": "@jupyter-widgets/base",
            "_model_module_version": "1.2.0",
            "_model_name": "LayoutModel",
            "_view_count": null,
            "_view_module": "@jupyter-widgets/base",
            "_view_module_version": "1.2.0",
            "_view_name": "LayoutView",
            "align_content": null,
            "align_items": null,
            "align_self": null,
            "border": null,
            "bottom": null,
            "display": null,
            "flex": null,
            "flex_flow": null,
            "grid_area": null,
            "grid_auto_columns": null,
            "grid_auto_flow": null,
            "grid_auto_rows": null,
            "grid_column": null,
            "grid_gap": null,
            "grid_row": null,
            "grid_template_areas": null,
            "grid_template_columns": null,
            "grid_template_rows": null,
            "height": null,
            "justify_content": null,
            "justify_items": null,
            "left": null,
            "margin": null,
            "max_height": null,
            "max_width": null,
            "min_height": null,
            "min_width": null,
            "object_fit": null,
            "object_position": null,
            "order": null,
            "overflow": null,
            "overflow_x": null,
            "overflow_y": null,
            "padding": null,
            "right": null,
            "top": null,
            "visibility": null,
            "width": null
          }
        },
        "9783ac7c54584633a2ee64944df23c7c": {
          "model_module": "@jupyter-widgets/controls",
          "model_module_version": "1.5.0",
          "model_name": "ProgressStyleModel",
          "state": {
            "_model_module": "@jupyter-widgets/controls",
            "_model_module_version": "1.5.0",
            "_model_name": "ProgressStyleModel",
            "_view_count": null,
            "_view_module": "@jupyter-widgets/base",
            "_view_module_version": "1.2.0",
            "_view_name": "StyleView",
            "bar_color": null,
            "description_width": ""
          }
        },
        "ab27b0db9725441f98ff61bfb6149e4c": {
          "model_module": "@jupyter-widgets/controls",
          "model_module_version": "1.5.0",
          "model_name": "LabelModel",
          "state": {
            "_dom_classes": [],
            "_model_module": "@jupyter-widgets/controls",
            "_model_module_version": "1.5.0",
            "_model_name": "LabelModel",
            "_view_count": null,
            "_view_module": "@jupyter-widgets/controls",
            "_view_module_version": "1.5.0",
            "_view_name": "LabelView",
            "description": "",
            "description_tooltip": null,
            "layout": "IPY_MODEL_094f1c8d6f0e4c2aa9e8e6891b3aa879",
            "placeholder": "​",
            "style": "IPY_MODEL_50d84f148ee74277a21f98a96d4de3a4",
            "value": "dictionaries-common: Installed dictionaries-common (amd64)"
          }
        }
      }
    }
  },
  "nbformat": 4,
  "nbformat_minor": 0
}
